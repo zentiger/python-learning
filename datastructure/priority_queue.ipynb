{
 "cells": [
  {
   "cell_type": "code",
   "execution_count": 18,
   "metadata": {},
   "outputs": [],
   "source": [
    "class BinaryHeap():\n",
    "\n",
    "    def __init__(self):\n",
    "        self.queue = []\n",
    "        self.len = len(self.queue)\n",
    "    \n",
    "    def insert(self, e):\n",
    "        self.queue.append(e)\n",
    "        self.len += 1\n",
    "        self._up()\n",
    "        pass\n",
    "\n",
    "    def findMax(self):\n",
    "        return self.queue[0]\n",
    "\n",
    "    def delMax(self):\n",
    "        max = self.queue[0]\n",
    "        self.queue[0] = self.queue[-1]\n",
    "        self.len -= 1\n",
    "        self._down(0)\n",
    "        return max\n",
    "\n",
    "    def _up(self):\n",
    "        curr = self.len - 1\n",
    "        while curr:\n",
    "            parent = int((curr+1)/2 - 1)\n",
    "            if parent >= 0 and self.queue[parent] < self.queue[curr]:\n",
    "                self.queue[parent], self.queue[curr] = self.queue[curr], self.queue[parent]\n",
    "                curr = parent\n",
    "            else:\n",
    "                break\n",
    "\n",
    "    def _down(self, idx = 0 ):\n",
    "        if idx >= self.len:\n",
    "            return \n",
    "        left_child = idx * 2 + 1\n",
    "        right_child = idx * 2 + 2 \n",
    "        if left_child < self.len and self.queue[idx] < self.queue[left_child]:\n",
    "            self.queue[idx], self.queue[left_child] = self.queue[left_child], self.queue[idx]\n",
    "            self._down(left_child)\n",
    "        if right_child < self.len and self.queue[idx] < self.queue[right_child]:\n",
    "            self.queue[idx], self.queue[right_child] = self.queue[right_child], self.queue[idx]\n",
    "            self._down(right_child)\n",
    "\n",
    "    def __repr__(self):\n",
    "        return str(self.queue[:self.len])\n",
    "\n"
   ]
  },
  {
   "cell_type": "code",
   "execution_count": 19,
   "metadata": {},
   "outputs": [
    {
     "name": "stdout",
     "output_type": "stream",
     "text": [
      "[]\n",
      "[10]\n",
      "[11, 10]\n",
      "[13, 10, 11]\n",
      "[16, 14, 15, 12, 13, 11, 11, 8, 10, 9, 13, 10]\n",
      "16\n",
      "16\n",
      "15\n",
      "[14, 13, 13, 10, 10, 11, 11, 8, 10, 9]\n"
     ]
    }
   ],
   "source": [
    "h = BinaryHeap()\n",
    "print(h)\n",
    "h.insert(10)\n",
    "print(h)\n",
    "h.insert(11)\n",
    "print(h)\n",
    "h.insert(13)\n",
    "print(h)\n",
    "[ h.insert(i) for i in range(8,17) ]\n",
    "print(h)\n",
    "\n",
    "print(h.findMax())\n",
    "print(h.delMax())\n",
    "print(h.delMax())\n",
    "print(h)\n"
   ]
  }
 ],
 "metadata": {
  "interpreter": {
   "hash": "31f2aee4e71d21fbe5cf8b01ff0e069b9275f58929596ceb00d14d90e3e16cd6"
  },
  "kernelspec": {
   "display_name": "Python 3.8.9 64-bit",
   "language": "python",
   "name": "python3"
  },
  "language_info": {
   "codemirror_mode": {
    "name": "ipython",
    "version": 3
   },
   "file_extension": ".py",
   "mimetype": "text/x-python",
   "name": "python",
   "nbconvert_exporter": "python",
   "pygments_lexer": "ipython3",
   "version": "3.8.9"
  },
  "orig_nbformat": 4
 },
 "nbformat": 4,
 "nbformat_minor": 2
}
