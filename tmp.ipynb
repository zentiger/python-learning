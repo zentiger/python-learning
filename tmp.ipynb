{
 "cells": [
  {
   "cell_type": "code",
   "execution_count": 1,
   "metadata": {},
   "outputs": [
    {
     "name": "stdout",
     "output_type": "stream",
     "text": [
      "inner: foo\n",
      "1 2\n",
      "3\n",
      "foo: inner\n"
     ]
    },
    {
     "data": {
      "text/plain": [
       "'inner'"
      ]
     },
     "execution_count": 1,
     "metadata": {},
     "output_type": "execute_result"
    }
   ],
   "source": [
    "def outer(func):\n",
    "    def inner(a,b):\n",
    "        print(f'inner: {func.__name__}')\n",
    "        print(a,b)\n",
    "        func(a,b)\n",
    "    return inner\n",
    "\n",
    "@outer\n",
    "def foo(a,b):\n",
    "    print(a+b)\n",
    "    print(f'foo: {foo.__name__}')\n",
    "    \n",
    "    \n",
    "foo(1,2)\n",
    "foo.__name__"
   ]
  },
  {
   "cell_type": "code",
   "execution_count": 17,
   "metadata": {},
   "outputs": [
    {
     "ename": "TypeError",
     "evalue": "isinstance() arg 2 must be a type or tuple of types",
     "output_type": "error",
     "traceback": [
      "\u001b[0;31m---------------------------------------------------------------------------\u001b[0m",
      "\u001b[0;31mTypeError\u001b[0m                                 Traceback (most recent call last)",
      "\u001b[0;32m/var/folders/9f/pxtcnymd05l_n3_8zhlpr_nc0000gp/T/ipykernel_58686/1290409027.py\u001b[0m in \u001b[0;36m<module>\u001b[0;34m\u001b[0m\n\u001b[1;32m      1\u001b[0m \u001b[0ma\u001b[0m \u001b[0;34m=\u001b[0m \u001b[0mrange\u001b[0m\u001b[0;34m(\u001b[0m\u001b[0;36m10\u001b[0m\u001b[0;34m)\u001b[0m\u001b[0;34m\u001b[0m\u001b[0;34m\u001b[0m\u001b[0m\n\u001b[0;32m----> 2\u001b[0;31m \u001b[0misinstance\u001b[0m\u001b[0;34m(\u001b[0m\u001b[0mstr\u001b[0m\u001b[0;34m,\u001b[0m\u001b[0mrange\u001b[0m\u001b[0;34m(\u001b[0m\u001b[0;36m0\u001b[0m\u001b[0;34m,\u001b[0m\u001b[0;36m10\u001b[0m\u001b[0;34m)\u001b[0m\u001b[0;34m)\u001b[0m\u001b[0;34m\u001b[0m\u001b[0;34m\u001b[0m\u001b[0m\n\u001b[0m",
      "\u001b[0;31mTypeError\u001b[0m: isinstance() arg 2 must be a type or tuple of types"
     ]
    }
   ],
   "source": [
    "a = range(10)\n"
   ]
  },
  {
   "cell_type": "code",
   "execution_count": 11,
   "metadata": {},
   "outputs": [
    {
     "name": "stdout",
     "output_type": "stream",
     "text": [
      "<class 'collections.OrderedDict'>\n",
      "OrderedDict([('A', 1), ('B', 2), ('C', 3)])\n",
      "OrderedDict([('B', 2), ('C', 3), ('A', 1)])\n"
     ]
    }
   ],
   "source": [
    "import collections\n",
    "\n",
    "od = collections.OrderedDict({\"A\":1, \"B\":2})\n",
    "print(type(od))\n",
    "od[\"C\"] = 3\n",
    "print(od)\n",
    "od.move_to_end(\"A\")\n",
    "print(od)\n",
    "od.popitem()\n"
   ]
  },
  {
   "cell_type": "code",
   "execution_count": null,
   "metadata": {},
   "outputs": [],
   "source": [
    "class DLinkedNode():\n",
    "    def __init__(self, key=0, value=0):\n",
    "        self.key = key\n",
    "        self.value = value\n",
    "        self.prev = None\n",
    "        self.next = None\n",
    "\n",
    "class LRUCache():\n",
    "    def __init__(self, capacity: int):\n",
    "        self.cache = dict()\n",
    "        self.capacity  = capacity\n",
    "        self.head = DLinkedNode()\n",
    "        self.tail = DLinkedNode()\n",
    "        self.head.next = self.tail\n",
    "        self.tail.prev = self.head\n",
    "        self.size = 0\n",
    "\n",
    "    def get(self, key):\n",
    "        if key not in self.cache:\n",
    "            return -1\n",
    "\n",
    "        node = self.cache[key]\n",
    "        self.move_to_head(node)\n",
    "        return node.value\n",
    "\n",
    "    def put(self, key, value):\n",
    "        if key not in self.cache:\n",
    "            node = DLinkedNode(key, value)\n",
    "            self.add_to_head(node)\n",
    "            self.cache[key] = node\n",
    "            self.size += 1\n",
    "            if self.size > self.capacity:\n",
    "                node_removed = self.remove_from_tail()\n",
    "                self.cache.popitem(node_removed.key)\n",
    "                self.size -= 1\n",
    "        else:\n",
    "            node = self.cache[key]\n",
    "            node.value = value\n",
    "            self.move_to_head(node)\n",
    "\n",
    "    def add_to_head(self, node):\n",
    "        node.next = self.head.next\n",
    "        node.prev = self.head\n",
    "        self.head.next.prev = node\n",
    "        self.head.next = node\n",
    "    \n",
    "    def remove_node(self, node):\n",
    "        print(node.key,node.value)\n",
    "        node.prev.next, node.next.prev = node.next, node.prev\n",
    "\n",
    "    def move_to_head(self, node):\n",
    "        self.remove_node(node)\n",
    "        self.add_to_head(node)\n",
    "\n",
    "    def remove_from_tail(self):\n",
    "        if self.size == 0:\n",
    "            return\n",
    "        else:\n",
    "            node = self.tail.prev\n",
    "            self.remove_node(node)\n",
    "\n"
   ]
  },
  {
   "cell_type": "code",
   "execution_count": 9,
   "metadata": {},
   "outputs": [],
   "source": [
    "class MyTestClass(object):\n",
    "    def __call__(self):\n",
    "        print(\"Callable\")\n",
    "    pass"
   ]
  },
  {
   "cell_type": "code",
   "execution_count": 10,
   "metadata": {},
   "outputs": [
    {
     "name": "stdout",
     "output_type": "stream",
     "text": [
      "Callable\n"
     ]
    }
   ],
   "source": [
    "a = MyTestClass()\n",
    "a()"
   ]
  },
  {
   "cell_type": "code",
   "execution_count": 11,
   "metadata": {},
   "outputs": [],
   "source": [
    "from math import hypot"
   ]
  },
  {
   "cell_type": "code",
   "execution_count": 12,
   "metadata": {},
   "outputs": [
    {
     "name": "stdout",
     "output_type": "stream",
     "text": [
      "Help on built-in function hypot in module math:\n",
      "\n",
      "hypot(x, y, /)\n",
      "    Return the Euclidean distance, sqrt(x*x + y*y).\n",
      "\n"
     ]
    }
   ],
   "source": [
    "help(hypot)"
   ]
  },
  {
   "cell_type": "code",
   "execution_count": 13,
   "metadata": {},
   "outputs": [
    {
     "name": "stdout",
     "output_type": "stream",
     "text": [
      "fab time:  2578769000\n",
      "fab_cache time:  81000\n"
     ]
    }
   ],
   "source": [
    "import functools\n",
    "import time\n",
    "\n",
    "def fab(n):\n",
    "    if n == 1 or n == 2:\n",
    "        return 1\n",
    "    \n",
    "    if n >= 3:\n",
    "        return fab(n-1) + fab(n-2)\n",
    "\n",
    "@functools.lru_cache(128)\n",
    "def fab_cache(n):\n",
    "    if n == 1 or n == 2:\n",
    "        return 1\n",
    "    \n",
    "    return fab_cache(n-1) + fab_cache(n-2)\n",
    "\n",
    "s_time = time.time_ns()\n",
    "fab(35)\n",
    "print(f\"fab time: \",time.time_ns() - s_time)\n",
    "\n",
    "s_time = time.time_ns()\n",
    "fab_cache(35)\n",
    "print(f\"fab_cache time: \", time.time_ns() - s_time)\n",
    "\n"
   ]
  },
  {
   "cell_type": "code",
   "execution_count": 14,
   "metadata": {},
   "outputs": [
    {
     "name": "stdout",
     "output_type": "stream",
     "text": [
      "[(0, 0), (-1, 1), (0, 2), (-9, 3), (0, 4), (-25, 5), (0, 6), (-49, 7), (0, 8), (-81, 9)]\n",
      "[(-81, 9), (-49, 7), (-25, 5), (-9, 3), (-1, 1), (0, 2), (0, 6), (0, 0), (0, 8), (0, 4)]\n"
     ]
    },
    {
     "data": {
      "text/plain": [
       "<function _heapq.heappop>"
      ]
     },
     "execution_count": 14,
     "metadata": {},
     "output_type": "execute_result"
    }
   ],
   "source": [
    "import heapq\n",
    "\n",
    "q = [(i**2*(-1*(i%2)),i) for i in range(10)]\n",
    "print(q)\n",
    "heapq.heapify(q)\n",
    "print(q)\n",
    "\n",
    "heapq.heappop"
   ]
  },
  {
   "cell_type": "code",
   "execution_count": 42,
   "metadata": {},
   "outputs": [],
   "source": [
    "import random\n",
    "\n",
    "a = [ random.randint(0,10) for i in range(1000) ]"
   ]
  },
  {
   "cell_type": "code",
   "execution_count": 47,
   "metadata": {},
   "outputs": [
    {
     "data": {
      "text/plain": [
       "['__name__',\n",
       " '__doc__',\n",
       " '__package__',\n",
       " '__loader__',\n",
       " '__spec__',\n",
       " '__builtin__',\n",
       " '__builtins__',\n",
       " '_ih',\n",
       " '_oh',\n",
       " '_dh',\n",
       " 'In',\n",
       " 'Out',\n",
       " 'get_ipython',\n",
       " 'exit',\n",
       " 'quit',\n",
       " '_',\n",
       " '__',\n",
       " '___',\n",
       " 'site',\n",
       " 'os',\n",
       " 'sys',\n",
       " '__vsc_ipynb_file__',\n",
       " '_i',\n",
       " '_ii',\n",
       " '_iii',\n",
       " '_i1',\n",
       " 'm',\n",
       " 'n',\n",
       " '_1',\n",
       " '_VSCODE_json',\n",
       " '_VSCODE_builtins',\n",
       " '_VSCODE_getVariableInfo',\n",
       " '_VSCODE_getVariableProperties',\n",
       " '_VSCODE_getVariableTypes',\n",
       " 'builtins',\n",
       " '_rwho_ls',\n",
       " '_i2',\n",
       " '_2',\n",
       " '_i3',\n",
       " 'map',\n",
       " '_i4',\n",
       " '_i5',\n",
       " 'random',\n",
       " '_5',\n",
       " '_i6',\n",
       " '_6',\n",
       " '_i7',\n",
       " '_7',\n",
       " '_i8',\n",
       " '_8',\n",
       " '_i9',\n",
       " '_9',\n",
       " '_i10',\n",
       " '_10',\n",
       " '_i11',\n",
       " '_11',\n",
       " '_i12',\n",
       " '_12',\n",
       " '_i13',\n",
       " '_13',\n",
       " '_i14',\n",
       " '_14',\n",
       " '_i15',\n",
       " '_15',\n",
       " '_i16',\n",
       " '_16',\n",
       " '_i17',\n",
       " '_17',\n",
       " '_i18',\n",
       " '_18',\n",
       " '_i19',\n",
       " '_19',\n",
       " '_i20',\n",
       " '_20',\n",
       " '_i21',\n",
       " '_21',\n",
       " '_i22',\n",
       " '_22',\n",
       " '_i23',\n",
       " '_23',\n",
       " '_i24',\n",
       " '_24',\n",
       " '_i25',\n",
       " '_25',\n",
       " '_i26',\n",
       " '_26',\n",
       " '_i27',\n",
       " '_27',\n",
       " '_i28',\n",
       " '_28',\n",
       " '_i29',\n",
       " '_29',\n",
       " '_i30',\n",
       " '_30',\n",
       " '_i31',\n",
       " '_31',\n",
       " '_i32',\n",
       " 'a',\n",
       " '_i33',\n",
       " 'collections',\n",
       " '_33',\n",
       " '_i34',\n",
       " '_i35',\n",
       " '_35',\n",
       " '_i36',\n",
       " '_i37',\n",
       " '_37',\n",
       " '_i38',\n",
       " '_i39',\n",
       " '_39',\n",
       " '_i40',\n",
       " '_i41',\n",
       " '_41',\n",
       " '_i42',\n",
       " '_i43',\n",
       " '_43',\n",
       " '_i44',\n",
       " '_i45',\n",
       " 'pylookup',\n",
       " '_i46',\n",
       " '_i47']"
      ]
     },
     "execution_count": 47,
     "metadata": {},
     "output_type": "execute_result"
    }
   ],
   "source": [
    "import collections\n",
    "collections.Counter(a)\n",
    "\n",
    "pylookup = collections.ChainMap(locals(), globals())\n"
   ]
  },
  {
   "cell_type": "code",
   "execution_count": 53,
   "metadata": {},
   "outputs": [
    {
     "name": "stdout",
     "output_type": "stream",
     "text": [
      "art rembrandt\n",
      "opera carmen\n",
      "music bach\n"
     ]
    }
   ],
   "source": [
    "baseline = {'music': 'bach', 'art': 'rembrandt'}\n",
    "adjustments = {'art': 'van gogh', 'opera': 'carmen'}\n",
    "\n",
    "list(collections.ChainMap(baseline, adjustments))\n",
    "\n",
    "# print(collections.ChainMap(baseline, adjustments))\n",
    "cm = collections.ChainMap(baseline, adjustments)\n",
    "for keys in cm:\n",
    "    print(keys, cm[keys])"
   ]
  },
  {
   "cell_type": "code",
   "execution_count": 60,
   "metadata": {},
   "outputs": [
    {
     "name": "stdout",
     "output_type": "stream",
     "text": [
      "True\n"
     ]
    }
   ],
   "source": [
    "a = [1, 2]\n",
    "b = [2, 1, 3]\n",
    "if a < b:\n",
    "    print(True)"
   ]
  },
  {
   "cell_type": "code",
   "execution_count": 61,
   "metadata": {},
   "outputs": [
    {
     "data": {
      "text/plain": [
       "0"
      ]
     },
     "execution_count": 61,
     "metadata": {},
     "output_type": "execute_result"
    }
   ],
   "source": [
    "min(0,2, 10)"
   ]
  },
  {
   "cell_type": "code",
   "execution_count": null,
   "metadata": {},
   "outputs": [],
   "source": []
  },
  {
   "cell_type": "code",
   "execution_count": 10,
   "metadata": {},
   "outputs": [
    {
     "data": {
      "text/plain": [
       "5"
      ]
     },
     "execution_count": 10,
     "metadata": {},
     "output_type": "execute_result"
    }
   ],
   "source": [
    "import functools\n",
    "\n",
    "list(map(lambda x: x**2 , range(10)))\n",
    "\n",
    "\n",
    "functools.reduce(lambda x,y: y, range(6))"
   ]
  },
  {
   "cell_type": "code",
   "execution_count": 28,
   "metadata": {},
   "outputs": [
    {
     "name": "stdout",
     "output_type": "stream",
     "text": [
      "0\n",
      "1\n",
      "4\n",
      "9\n",
      "16\n",
      "25\n"
     ]
    }
   ],
   "source": [
    "g = ( i**2 for i in range(6)) \n",
    "for x in g:\n",
    "    print(x)\n"
   ]
  },
  {
   "cell_type": "code",
   "execution_count": 36,
   "metadata": {},
   "outputs": [
    {
     "name": "stdout",
     "output_type": "stream",
     "text": [
      "{'x': <class 'int'>, 'y': <class 'int'>, 'return': <class 'int'>}\n",
      " Return x + y \n"
     ]
    },
    {
     "data": {
      "text/plain": [
       "['__annotations__',\n",
       " '__call__',\n",
       " '__class__',\n",
       " '__closure__',\n",
       " '__code__',\n",
       " '__defaults__',\n",
       " '__delattr__',\n",
       " '__dict__',\n",
       " '__dir__',\n",
       " '__doc__',\n",
       " '__eq__',\n",
       " '__format__',\n",
       " '__ge__',\n",
       " '__get__',\n",
       " '__getattribute__',\n",
       " '__globals__',\n",
       " '__gt__',\n",
       " '__hash__',\n",
       " '__init__',\n",
       " '__init_subclass__',\n",
       " '__kwdefaults__',\n",
       " '__le__',\n",
       " '__lt__',\n",
       " '__module__',\n",
       " '__name__',\n",
       " '__ne__',\n",
       " '__new__',\n",
       " '__qualname__',\n",
       " '__reduce__',\n",
       " '__reduce_ex__',\n",
       " '__repr__',\n",
       " '__setattr__',\n",
       " '__sizeof__',\n",
       " '__str__',\n",
       " '__subclasshook__']"
      ]
     },
     "execution_count": 36,
     "metadata": {},
     "output_type": "execute_result"
    }
   ],
   "source": [
    "def foo(x: int, y: int) -> int: \n",
    "    \"\"\" Return x + y \"\"\"\n",
    "    return x + y \n",
    "print(foo.__annotations__)\n",
    "print(foo.__doc__)\n",
    "dir(foo)\n"
   ]
  },
  {
   "cell_type": "markdown",
   "metadata": {},
   "source": [
    "for int k, n ; k is the target kth minimal fractor, n is the length of array.\n",
    "\n",
    "for i in range(n-1, 1):\n",
    "    k -= i\n",
    "    if k < 0:\n",
    "       first = (n-1) - i\n",
    "       second = arr[first:][k+1]\n",
    "\n",
    "return [first, second]\n",
    "\n"
   ]
  }
 ],
 "metadata": {
  "interpreter": {
   "hash": "949777d72b0d2535278d3dc13498b2535136f6dfe0678499012e853ee9abcab1"
  },
  "kernelspec": {
   "display_name": "airflow",
   "language": "python",
   "name": "python3"
  },
  "language_info": {
   "codemirror_mode": {
    "name": "ipython",
    "version": 3
   },
   "file_extension": ".py",
   "mimetype": "text/x-python",
   "name": "python",
   "nbconvert_exporter": "python",
   "pygments_lexer": "ipython3",
   "version": "3.7.3"
  }
 },
 "nbformat": 4,
 "nbformat_minor": 4
}
