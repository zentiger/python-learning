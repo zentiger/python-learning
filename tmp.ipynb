{
 "cells": [
  {
   "cell_type": "code",
   "execution_count": 1,
   "metadata": {},
   "outputs": [
    {
     "name": "stdout",
     "output_type": "stream",
     "text": [
      "inner: foo\n",
      "1 2\n",
      "3\n",
      "foo: inner\n"
     ]
    },
    {
     "data": {
      "text/plain": [
       "'inner'"
      ]
     },
     "execution_count": 1,
     "metadata": {},
     "output_type": "execute_result"
    }
   ],
   "source": [
    "def outer(func):\n",
    "    def inner(a,b):\n",
    "        print(f'inner: {func.__name__}')\n",
    "        print(a,b)\n",
    "        func(a,b)\n",
    "    return inner\n",
    "\n",
    "@outer\n",
    "def foo(a,b):\n",
    "    print(a+b)\n",
    "    print(f'foo: {foo.__name__}')\n",
    "    \n",
    "    \n",
    "foo(1,2)\n",
    "foo.__name__"
   ]
  },
  {
   "cell_type": "code",
   "execution_count": 6,
   "metadata": {},
   "outputs": [],
   "source": [
    "class MyTestClass(object):\n",
    "    def __call__(self):\n",
    "        print(\"Callable\")\n",
    "    pass"
   ]
  },
  {
   "cell_type": "code",
   "execution_count": 8,
   "metadata": {},
   "outputs": [
    {
     "name": "stdout",
     "output_type": "stream",
     "text": [
      "Callable\n"
     ]
    }
   ],
   "source": [
    "a = MyTestClass()\n",
    "a()"
   ]
  },
  {
   "cell_type": "code",
   "execution_count": 2,
   "metadata": {},
   "outputs": [],
   "source": [
    "from math import hypot"
   ]
  },
  {
   "cell_type": "code",
   "execution_count": 3,
   "metadata": {},
   "outputs": [
    {
     "name": "stdout",
     "output_type": "stream",
     "text": [
      "Help on built-in function hypot in module math:\n",
      "\n",
      "hypot(...)\n",
      "    hypot(*coordinates) -> value\n",
      "    \n",
      "    Multidimensional Euclidean distance from the origin to a point.\n",
      "    \n",
      "    Roughly equivalent to:\n",
      "        sqrt(sum(x**2 for x in coordinates))\n",
      "    \n",
      "    For a two dimensional point (x, y), gives the hypotenuse\n",
      "    using the Pythagorean theorem:  sqrt(x*x + y*y).\n",
      "    \n",
      "    For example, the hypotenuse of a 3/4/5 right triangle is:\n",
      "    \n",
      "        >>> hypot(3.0, 4.0)\n",
      "        5.0\n",
      "\n"
     ]
    }
   ],
   "source": [
    "help(hypot)"
   ]
  },
  {
   "cell_type": "code",
   "execution_count": null,
   "metadata": {},
   "outputs": [],
   "source": [
    " d"
   ]
  }
 ],
 "metadata": {
  "kernelspec": {
   "display_name": "Python 3",
   "language": "python",
   "name": "python3"
  },
  "language_info": {
   "codemirror_mode": {
    "name": "ipython",
    "version": 3
   },
   "file_extension": ".py",
   "mimetype": "text/x-python",
   "name": "python",
   "nbconvert_exporter": "python",
   "pygments_lexer": "ipython3",
   "version": "3.8.5"
  }
 },
 "nbformat": 4,
 "nbformat_minor": 4
}
