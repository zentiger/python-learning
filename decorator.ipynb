{
 "cells": [
  {
   "cell_type": "code",
   "execution_count": 31,
   "metadata": {},
   "outputs": [],
   "source": [
    "import functools\n",
    "import inspect"
   ]
  },
  {
   "cell_type": "code",
   "execution_count": 32,
   "metadata": {},
   "outputs": [],
   "source": [
    "def is_admin(f):\n",
    "\n",
    "    @functools.wraps(f)\n",
    "    def wrapper(*args, **kwargs):\n",
    "        func_args = inspect.getcallargs(f, *args, **kwargs)\n",
    "        print(func_args)\n",
    "\n",
    "        if func_args.get('name') != 'admin':\n",
    "            raise Exception('Not an Admin!')\n",
    "        return f(*args, **kwargs)\n",
    "    \n",
    "    return wrapper"
   ]
  },
  {
   "cell_type": "code",
   "execution_count": 35,
   "metadata": {},
   "outputs": [],
   "source": [
    "import signal\n",
    "\n",
    "def timeout(seconds, error_message = 'Function call timed out'):\n",
    "   def decorated(func):\n",
    "       def _handle_timeout(signum, frame):\n",
    "           raise TimeoutError(error_message)\n",
    "\n",
    "       def wrapper(*args, **kwargs):\n",
    "           signal.signal(signal.SIGALRM, _handle_timeout)\n",
    "           signal.alarm(seconds)\n",
    "           try:\n",
    "               result = func(*args, **kwargs)\n",
    "           finally:\n",
    "               signal.alarm(0)\n",
    "           return result\n",
    "\n",
    "       return functools.wraps(func)(wrapper)\n",
    "\n",
    "   return decorated"
   ]
  },
  {
   "cell_type": "code",
   "execution_count": 36,
   "metadata": {},
   "outputs": [
    {
     "ename": "TimeoutError",
     "evalue": "Abort",
     "output_type": "error",
     "traceback": [
      "\u001b[0;31m---------------------------------------------------------------------------\u001b[0m",
      "\u001b[0;31mTimeoutError\u001b[0m                              Traceback (most recent call last)",
      "\u001b[1;32m/Users/leihaisheng/Works/zentiger/Python/python-learning/decorator.ipynb Cell 4'\u001b[0m in \u001b[0;36m<cell line: 6>\u001b[0;34m()\u001b[0m\n\u001b[1;32m      <a href='vscode-notebook-cell:/Users/leihaisheng/Works/zentiger/Python/python-learning/decorator.ipynb#ch0000005?line=1'>2</a>\u001b[0m \u001b[39m@timeout\u001b[39m(\u001b[39m1\u001b[39m, error_message\u001b[39m=\u001b[39m\u001b[39m\"\u001b[39m\u001b[39mAbort\u001b[39m\u001b[39m\"\u001b[39m)\n\u001b[1;32m      <a href='vscode-notebook-cell:/Users/leihaisheng/Works/zentiger/Python/python-learning/decorator.ipynb#ch0000005?line=2'>3</a>\u001b[0m \u001b[39mdef\u001b[39;00m \u001b[39mslow_func\u001b[39m():\n\u001b[1;32m      <a href='vscode-notebook-cell:/Users/leihaisheng/Works/zentiger/Python/python-learning/decorator.ipynb#ch0000005?line=3'>4</a>\u001b[0m     time\u001b[39m.\u001b[39msleep(\u001b[39m5\u001b[39m)\n\u001b[0;32m----> <a href='vscode-notebook-cell:/Users/leihaisheng/Works/zentiger/Python/python-learning/decorator.ipynb#ch0000005?line=5'>6</a>\u001b[0m slow_func()\n",
      "\u001b[1;32m/Users/leihaisheng/Works/zentiger/Python/python-learning/decorator.ipynb Cell 3'\u001b[0m in \u001b[0;36mtimeout.<locals>.decorated.<locals>.wrapper\u001b[0;34m(*args, **kwargs)\u001b[0m\n\u001b[1;32m     <a href='vscode-notebook-cell:/Users/leihaisheng/Works/zentiger/Python/python-learning/decorator.ipynb#ch0000004?line=9'>10</a>\u001b[0m signal\u001b[39m.\u001b[39malarm(seconds)\n\u001b[1;32m     <a href='vscode-notebook-cell:/Users/leihaisheng/Works/zentiger/Python/python-learning/decorator.ipynb#ch0000004?line=10'>11</a>\u001b[0m \u001b[39mtry\u001b[39;00m:\n\u001b[0;32m---> <a href='vscode-notebook-cell:/Users/leihaisheng/Works/zentiger/Python/python-learning/decorator.ipynb#ch0000004?line=11'>12</a>\u001b[0m     result \u001b[39m=\u001b[39m func(\u001b[39m*\u001b[39;49margs, \u001b[39m*\u001b[39;49m\u001b[39m*\u001b[39;49mkwargs)\n\u001b[1;32m     <a href='vscode-notebook-cell:/Users/leihaisheng/Works/zentiger/Python/python-learning/decorator.ipynb#ch0000004?line=12'>13</a>\u001b[0m \u001b[39mfinally\u001b[39;00m:\n\u001b[1;32m     <a href='vscode-notebook-cell:/Users/leihaisheng/Works/zentiger/Python/python-learning/decorator.ipynb#ch0000004?line=13'>14</a>\u001b[0m     signal\u001b[39m.\u001b[39malarm(\u001b[39m0\u001b[39m)\n",
      "\u001b[1;32m/Users/leihaisheng/Works/zentiger/Python/python-learning/decorator.ipynb Cell 4'\u001b[0m in \u001b[0;36mslow_func\u001b[0;34m()\u001b[0m\n\u001b[1;32m      <a href='vscode-notebook-cell:/Users/leihaisheng/Works/zentiger/Python/python-learning/decorator.ipynb#ch0000005?line=1'>2</a>\u001b[0m \u001b[39m@timeout\u001b[39m(\u001b[39m1\u001b[39m, error_message\u001b[39m=\u001b[39m\u001b[39m\"\u001b[39m\u001b[39mAbort\u001b[39m\u001b[39m\"\u001b[39m)\n\u001b[1;32m      <a href='vscode-notebook-cell:/Users/leihaisheng/Works/zentiger/Python/python-learning/decorator.ipynb#ch0000005?line=2'>3</a>\u001b[0m \u001b[39mdef\u001b[39;00m \u001b[39mslow_func\u001b[39m():\n\u001b[0;32m----> <a href='vscode-notebook-cell:/Users/leihaisheng/Works/zentiger/Python/python-learning/decorator.ipynb#ch0000005?line=3'>4</a>\u001b[0m     time\u001b[39m.\u001b[39;49msleep(\u001b[39m5\u001b[39;49m)\n",
      "\u001b[1;32m/Users/leihaisheng/Works/zentiger/Python/python-learning/decorator.ipynb Cell 3'\u001b[0m in \u001b[0;36mtimeout.<locals>.decorated.<locals>._handle_timeout\u001b[0;34m(signum, frame)\u001b[0m\n\u001b[1;32m      <a href='vscode-notebook-cell:/Users/leihaisheng/Works/zentiger/Python/python-learning/decorator.ipynb#ch0000004?line=4'>5</a>\u001b[0m \u001b[39mdef\u001b[39;00m \u001b[39m_handle_timeout\u001b[39m(signum, frame):\n\u001b[0;32m----> <a href='vscode-notebook-cell:/Users/leihaisheng/Works/zentiger/Python/python-learning/decorator.ipynb#ch0000004?line=5'>6</a>\u001b[0m     \u001b[39mraise\u001b[39;00m \u001b[39mTimeoutError\u001b[39;00m(error_message)\n",
      "\u001b[0;31mTimeoutError\u001b[0m: Abort"
     ]
    }
   ],
   "source": [
    "import time\n",
    "@timeout(1, error_message=\"Abort\")\n",
    "def slow_func():\n",
    "    time.sleep(5)\n",
    "\n",
    "slow_func()"
   ]
  },
  {
   "cell_type": "code",
   "execution_count": 37,
   "metadata": {},
   "outputs": [
    {
     "name": "stdout",
     "output_type": "stream",
     "text": [
      "foobar\n",
      "This is func: foobar\n",
      "barfoo\n",
      "This is func: barfoo\n",
      "{'name': 'artical'}\n"
     ]
    },
    {
     "ename": "Exception",
     "evalue": "Not an Admin!",
     "output_type": "error",
     "traceback": [
      "\u001b[0;31m---------------------------------------------------------------------------\u001b[0m",
      "\u001b[0;31mException\u001b[0m                                 Traceback (most recent call last)",
      "\u001b[1;32m/Users/leihaisheng/Works/zentiger/Python/python-learning/decorator.ipynb Cell 5'\u001b[0m in \u001b[0;36m<cell line: 16>\u001b[0;34m()\u001b[0m\n\u001b[1;32m     <a href='vscode-notebook-cell:/Users/leihaisheng/Works/zentiger/Python/python-learning/decorator.ipynb#ch0000002?line=12'>13</a>\u001b[0m \u001b[39mprint\u001b[39m(barfoo\u001b[39m.\u001b[39m\u001b[39m__name__\u001b[39m)\n\u001b[1;32m     <a href='vscode-notebook-cell:/Users/leihaisheng/Works/zentiger/Python/python-learning/decorator.ipynb#ch0000002?line=13'>14</a>\u001b[0m \u001b[39mprint\u001b[39m(barfoo\u001b[39m.\u001b[39m\u001b[39m__doc__\u001b[39m)\n\u001b[0;32m---> <a href='vscode-notebook-cell:/Users/leihaisheng/Works/zentiger/Python/python-learning/decorator.ipynb#ch0000002?line=15'>16</a>\u001b[0m barfoo()\n",
      "\u001b[1;32m/Users/leihaisheng/Works/zentiger/Python/python-learning/decorator.ipynb Cell 2'\u001b[0m in \u001b[0;36mis_admin.<locals>.wrapper\u001b[0;34m(*args, **kwargs)\u001b[0m\n\u001b[1;32m      <a href='vscode-notebook-cell:/Users/leihaisheng/Works/zentiger/Python/python-learning/decorator.ipynb#ch0000001?line=5'>6</a>\u001b[0m \u001b[39mprint\u001b[39m(func_args)\n\u001b[1;32m      <a href='vscode-notebook-cell:/Users/leihaisheng/Works/zentiger/Python/python-learning/decorator.ipynb#ch0000001?line=7'>8</a>\u001b[0m \u001b[39mif\u001b[39;00m func_args\u001b[39m.\u001b[39mget(\u001b[39m'\u001b[39m\u001b[39mname\u001b[39m\u001b[39m'\u001b[39m) \u001b[39m!=\u001b[39m \u001b[39m'\u001b[39m\u001b[39madmin\u001b[39m\u001b[39m'\u001b[39m:\n\u001b[0;32m----> <a href='vscode-notebook-cell:/Users/leihaisheng/Works/zentiger/Python/python-learning/decorator.ipynb#ch0000001?line=8'>9</a>\u001b[0m     \u001b[39mraise\u001b[39;00m \u001b[39mException\u001b[39;00m(\u001b[39m'\u001b[39m\u001b[39mNot an Admin!\u001b[39m\u001b[39m'\u001b[39m)\n\u001b[1;32m     <a href='vscode-notebook-cell:/Users/leihaisheng/Works/zentiger/Python/python-learning/decorator.ipynb#ch0000001?line=9'>10</a>\u001b[0m \u001b[39mreturn\u001b[39;00m f(\u001b[39m*\u001b[39margs, \u001b[39m*\u001b[39m\u001b[39m*\u001b[39mkwargs)\n",
      "\u001b[0;31mException\u001b[0m: Not an Admin!"
     ]
    }
   ],
   "source": [
    "def foobar(name=\"book\"):\n",
    "    '''This is func: foobar'''\n",
    "    pass\n",
    "\n",
    "@is_admin\n",
    "def barfoo(name=\"artical\"):\n",
    "    '''This is func: barfoo'''\n",
    "    pass\n",
    "\n",
    "print(foobar.__name__)\n",
    "print(foobar.__doc__)\n",
    "\n",
    "print(barfoo.__name__)\n",
    "print(barfoo.__doc__)\n",
    "\n",
    "barfoo()\n"
   ]
  },
  {
   "cell_type": "code",
   "execution_count": 26,
   "metadata": {},
   "outputs": [
    {
     "name": "stdout",
     "output_type": "stream",
     "text": [
      "{'name': 'admin', 'age': 10}\n"
     ]
    }
   ],
   "source": [
    "@is_admin\n",
    "def foo(name, age=10):\n",
    "    \"\"\"This is func: foo\"\"\"\n",
    "    pass\n",
    "\n",
    "foo('admin')"
   ]
  },
  {
   "cell_type": "code",
   "execution_count": 42,
   "metadata": {},
   "outputs": [
    {
     "name": "stdout",
     "output_type": "stream",
     "text": [
      "in deco func...\n",
      "exec func f1() ...\n",
      "in deco:inner func...\n",
      "outer func f1()...\n"
     ]
    }
   ],
   "source": [
    "def deco(func):\n",
    "    print(\"in deco func...\")\n",
    "    def inner(*args, **kwargs):\n",
    "        print(\"in deco:inner func...\")\n",
    "        return func(*args, **kwargs)\n",
    "    return inner\n",
    "\n",
    "@deco\n",
    "def f1():\n",
    "    print(\"outer func f1()...\")\n",
    "\n",
    "print(\"exec func f1() ...\")\n",
    "f1()\n",
    "\n"
   ]
  }
 ],
 "metadata": {
  "interpreter": {
   "hash": "31f2aee4e71d21fbe5cf8b01ff0e069b9275f58929596ceb00d14d90e3e16cd6"
  },
  "kernelspec": {
   "display_name": "Python 3.8.9 64-bit",
   "language": "python",
   "name": "python3"
  },
  "language_info": {
   "codemirror_mode": {
    "name": "ipython",
    "version": 3
   },
   "file_extension": ".py",
   "mimetype": "text/x-python",
   "name": "python",
   "nbconvert_exporter": "python",
   "pygments_lexer": "ipython3",
   "version": "3.8.9"
  },
  "orig_nbformat": 4
 },
 "nbformat": 4,
 "nbformat_minor": 2
}
