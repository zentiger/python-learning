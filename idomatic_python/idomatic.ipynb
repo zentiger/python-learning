{
 "cells": [
  {
   "cell_type": "code",
   "execution_count": 9,
   "metadata": {},
   "outputs": [],
   "source": [
    "import functools\n",
    "import time\n",
    "\n"
   ]
  },
  {
   "cell_type": "code",
   "execution_count": 15,
   "metadata": {},
   "outputs": [
    {
     "name": "stdout",
     "output_type": "stream",
     "text": [
      "raymond --> red\n",
      "rachel --> green\n",
      "matthew --> blue\n",
      "575000\n",
      "raymond --> red\n",
      "rachel --> green\n",
      "matthew --> blue\n",
      "160000\n"
     ]
    }
   ],
   "source": [
    "names = ['raymond', 'rachel', 'matthew']\n",
    "colors = ['red', 'green', 'blue', 'yellow']\n",
    "\n",
    "start_time_ns = time.time_ns()\n",
    "for i, n in enumerate(names):\n",
    "    print(f'{n} --> {colors[i]}')\n",
    "print(time.time_ns() - start_time_ns)\n",
    "\n",
    "start_time_ns = time.time_ns()\n",
    "for n, c in zip(names, colors):\n",
    "    print(f'{n} --> {c}')\n",
    "print(time.time_ns() - start_time_ns)\n"
   ]
  }
 ],
 "metadata": {
  "interpreter": {
   "hash": "f0acc56816cf58163d8fb9806d62abfeabbb669c587b8658217ed2a9cca54010"
  },
  "kernelspec": {
   "display_name": "Python 3.7.3 ('py3-learning')",
   "language": "python",
   "name": "python3"
  },
  "language_info": {
   "codemirror_mode": {
    "name": "ipython",
    "version": 3
   },
   "file_extension": ".py",
   "mimetype": "text/x-python",
   "name": "python",
   "nbconvert_exporter": "python",
   "pygments_lexer": "ipython3",
   "version": "3.7.3"
  },
  "orig_nbformat": 4
 },
 "nbformat": 4,
 "nbformat_minor": 2
}
